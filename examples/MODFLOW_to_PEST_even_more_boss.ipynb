{
 "cells": [
  {
   "cell_type": "markdown",
   "metadata": {},
   "source": [
    "### \"What just happened???\"\n",
    "\n",
    "Here we take an existing modflow model and setup a very complex parameterization system for arrays and boundary conditions.  All parameters are setup as multpliers: the original inputs from the modflow model are saved in separate files and during the forward run, they are multplied by the parameters to form new model inputs.  the forward run script (\"forward_run.py\") is also written.  And somewhat meaningful prior covariance matrix is constructed from geostatistical structures with out any additional arguements...oh yeah!"
   ]
  },
  {
   "cell_type": "code",
   "execution_count": null,
   "metadata": {},
   "outputs": [],
   "source": [
    "%matplotlib inline\n",
    "import os\n",
    "import platform\n",
    "import shutil\n",
    "import numpy as np\n",
    "import pandas as pd\n",
    "import matplotlib.pyplot as plt\n",
    "import flopy\n",
    "import pyemu\n",
    "from pathlib import Path"
   ]
  },
  {
   "cell_type": "markdown",
   "metadata": {},
   "source": [
    "##### Sandbox (this is mostly for test running safety)"
   ]
  },
  {
   "cell_type": "code",
   "execution_count": null,
   "metadata": {},
   "outputs": [],
   "source": [
    "org_model_ws = \"freyberg_sfr_update\"\n",
    "egpath = Path(\".\").absolute()\n",
    "while egpath.name != 'examples':\n",
    "    os.chdir('..')\n",
    "    egpath = Path(\".\").absolute()\n",
    "\n",
    "model_ws = Path(org_model_ws).absolute()\n",
    "tmp_path = Path(\"MODFLOW_to_PEST_even_more_bosslike\").absolute()\n",
    "\n",
    "EXE_DIR = Path(\"..\",\"bin\").absolute()\n",
    "if \"window\" in platform.platform().lower():\n",
    "    EXE_DIR = Path(EXE_DIR,\"win\")\n",
    "elif \"darwin\" in platform.platform().lower() or \"macos\" in platform.platform().lower():\n",
    "    EXE_DIR = Path(EXE_DIR,\"mac\")\n",
    "else:\n",
    "    EXE_DIR = Path(EXE_DIR,\"linux\")\n",
    "    \n",
    "basename = Path(model_ws).name\n",
    "new_d = Path(tmp_path, basename)\n",
    "if new_d.exists():\n",
    "    shutil.rmtree(new_d)\n",
    "Path(tmp_path).mkdir(exist_ok=True)\n",
    "# creation functionality\n",
    "shutil.copytree(model_ws, new_d)\n",
    "\n",
    "os.chdir(tmp_path)\n",
    "print(Path.cwd())"
   ]
  },
  {
   "cell_type": "code",
   "execution_count": null,
   "metadata": {},
   "outputs": [],
   "source": [
    "nam_file = \"freyberg.nam\"\n",
    "temp_model_ws = \"temp\"\n",
    "new_model_ws = \"template\"\n",
    "# load the model, change dir and run once just to make sure everthing is working\n",
    "m = flopy.modflow.Modflow.load(nam_file,model_ws=org_model_ws,check=False, exe_name=\"mfnwt\",\n",
    "                              forgive=False,verbose=True)\n",
    "m.change_model_ws(temp_model_ws,reset_external=True)\n",
    "m.write_input()\n",
    "[shutil.copy2(os.path.join(EXE_DIR,f),os.path.join(temp_model_ws,f)) for f in os.listdir(EXE_DIR)]\n",
    "\n",
    "try:\n",
    "    pyemu.os_utils.run(f\"mfnwt {nam_file}\", cwd=m.model_ws)  \n",
    "except():\n",
    "    pass"
   ]
  },
  {
   "cell_type": "markdown",
   "metadata": {},
   "source": [
    "You want some pilot points? We got that...how about one set of recharge multiplier pilot points applied to all stress periods? and sy in layer 1?"
   ]
  },
  {
   "cell_type": "code",
   "execution_count": null,
   "metadata": {},
   "outputs": [],
   "source": [
    "m.get_package_list()"
   ]
  },
  {
   "cell_type": "markdown",
   "metadata": {},
   "source": [
    "## Parameterization"
   ]
  },
  {
   "cell_type": "code",
   "execution_count": null,
   "metadata": {},
   "outputs": [],
   "source": [
    "pp_props = [[\"upw.sy\",0], [\"rch.rech\",None]]"
   ]
  },
  {
   "cell_type": "markdown",
   "metadata": {},
   "source": [
    "You want some constants (uniform value multipliers)?  We got that too...."
   ]
  },
  {
   "cell_type": "code",
   "execution_count": null,
   "metadata": {},
   "outputs": [],
   "source": [
    "const_props = []\n",
    "for iper in range(m.nper): # recharge for past and future\n",
    "    const_props.append([\"rch.rech\",iper])\n",
    "for k in range(m.nlay):\n",
    "    const_props.append([\"upw.hk\",k])\n",
    "    const_props.append([\"upw.ss\",k])\n"
   ]
  },
  {
   "cell_type": "markdown",
   "metadata": {},
   "source": [
    "You want grid-scale parameter flexibility for hk in all layers? We got that too...and how about sy in layer 1 and vka in layer 2 while we are at it"
   ]
  },
  {
   "cell_type": "code",
   "execution_count": null,
   "metadata": {},
   "outputs": [],
   "source": [
    "grid_props = [[\"upw.sy\",0],[\"upw.vka\",1]]\n",
    "for k in range(m.nlay):\n",
    "    grid_props.append([\"upw.hk\",k])\n",
    "    "
   ]
  },
  {
   "cell_type": "markdown",
   "metadata": {},
   "source": [
    "Some people like using zones...so we have those too"
   ]
  },
  {
   "cell_type": "code",
   "execution_count": null,
   "metadata": {},
   "outputs": [],
   "source": [
    "zn_array = np.loadtxt(os.path.join(egpath, \"Freyberg_Truth\",\"hk.zones\"))\n",
    "plt.imshow(zn_array)"
   ]
  },
  {
   "cell_type": "code",
   "execution_count": null,
   "metadata": {},
   "outputs": [],
   "source": [
    "zone_props = [[\"upw.ss\",0], [\"rch.rech\",0],[\"rch.rech\",1]]\n",
    "k_zone_dict = {k:zn_array for k in range(m.nlay)}\n"
   ]
  },
  {
   "cell_type": "markdown",
   "metadata": {},
   "source": [
    "But wait, boundary conditions are uncertain too...Can we add some parameter to represent that uncertainty?  You know it!"
   ]
  },
  {
   "cell_type": "code",
   "execution_count": null,
   "metadata": {},
   "outputs": [],
   "source": [
    "bc_props = []\n",
    "for iper in range(m.nper):\n",
    "    bc_props.append([\"wel.flux\",iper])"
   ]
  },
  {
   "cell_type": "code",
   "execution_count": null,
   "metadata": {},
   "outputs": [],
   "source": []
  },
  {
   "cell_type": "markdown",
   "metadata": {},
   "source": [
    "## Observations\n",
    "\n",
    "Since observations are \"free\", we can carry lots of them around..."
   ]
  },
  {
   "cell_type": "code",
   "execution_count": null,
   "metadata": {},
   "outputs": [],
   "source": [
    "# here were are building a list of stress period, layer pairs (zero-based) that we will use\n",
    "# to setup obserations from every active model cell for a given pair\n",
    "hds_kperk = []\n",
    "for iper in range(m.nper):\n",
    "    for k in range(m.nlay):\n",
    "        hds_kperk.append([iper,k])"
   ]
  },
  {
   "cell_type": "markdown",
   "metadata": {},
   "source": [
    "## Here it goes...\n",
    "Now we will use all these args to construct a complete PEST interface - template files, instruction files, control file and even the forward run script!  All parameters are setup as multiplers against the existing inputs in the modflow model - the existing inputs are extracted (with flopy) and saved in a sub directory for safe keep and for multiplying against during a forward model run.  The constructor will also write a full (covariates included) prior parameter covariance matrix, which is needed for all sorts of important analyses.|"
   ]
  },
  {
   "cell_type": "code",
   "execution_count": null,
   "metadata": {},
   "outputs": [],
   "source": [
    "mfp_boss = pyemu.helpers.PstFromFlopyModel(nam_file,new_model_ws,org_model_ws=temp_model_ws,\n",
    "                                          pp_props=pp_props,spatial_list_props=bc_props,\n",
    "                                          zone_props=zone_props,grid_props=grid_props,\n",
    "                                          const_props=const_props,k_zone_dict=k_zone_dict,\n",
    "                                          remove_existing=True,pp_space=4,sfr_pars=True,\n",
    "                                          sfr_obs=True,hds_kperk=hds_kperk)\n",
    "\n",
    "[shutil.copy2(os.path.join(EXE_DIR,f),os.path.join(new_model_ws,f)) for f in os.listdir(EXE_DIR)]\n"
   ]
  },
  {
   "cell_type": "markdown",
   "metadata": {},
   "source": [
    "The ``mpf_boss`` instance containts a ``pyemu.Pst`` object (its already been saved to a file, but you may want to manipulate it more)"
   ]
  },
  {
   "cell_type": "code",
   "execution_count": null,
   "metadata": {},
   "outputs": [],
   "source": [
    "pst = mfp_boss.pst"
   ]
  },
  {
   "cell_type": "code",
   "execution_count": null,
   "metadata": {},
   "outputs": [],
   "source": [
    "pst.npar,pst.nobs"
   ]
  },
  {
   "cell_type": "markdown",
   "metadata": {},
   "source": [
    "That was crazy easy - this used to take me weeks to get a PEST interface setup with level of complexity"
   ]
  },
  {
   "cell_type": "code",
   "execution_count": null,
   "metadata": {},
   "outputs": [],
   "source": [
    "pst.template_files"
   ]
  },
  {
   "cell_type": "code",
   "execution_count": null,
   "metadata": {},
   "outputs": [],
   "source": [
    "pst.instruction_files"
   ]
  },
  {
   "cell_type": "markdown",
   "metadata": {},
   "source": [
    "Lets look at that important prior covariance matrix"
   ]
  },
  {
   "cell_type": "code",
   "execution_count": null,
   "metadata": {},
   "outputs": [],
   "source": [
    "cov = pyemu.Cov.from_ascii(os.path.join(new_model_ws,m.name+\".pst.prior.cov\"))"
   ]
  },
  {
   "cell_type": "code",
   "execution_count": null,
   "metadata": {},
   "outputs": [],
   "source": [
    "cov = cov.x\n",
    "cov[cov==0] = np.NaN\n",
    "plt.imshow(cov)"
   ]
  },
  {
   "cell_type": "markdown",
   "metadata": {},
   "source": [
    "### adjusting parameter bounds\n",
    "Let's say you don't like the parameter bounds in the new control file (note you can pass a par_bounds arg to the constructor)."
   ]
  },
  {
   "cell_type": "code",
   "execution_count": null,
   "metadata": {},
   "outputs": [],
   "source": [
    "pst.parameter_data"
   ]
  },
  {
   "cell_type": "markdown",
   "metadata": {},
   "source": [
    "Let's change the ``welflux`` pars"
   ]
  },
  {
   "cell_type": "code",
   "execution_count": null,
   "metadata": {},
   "outputs": [],
   "source": [
    "par = pst.parameter_data #get a ref to the parameter data dataframe\n",
    "wpars = par.pargp==\"welflux_k02\"\n",
    "par.loc[wpars]"
   ]
  },
  {
   "cell_type": "code",
   "execution_count": null,
   "metadata": {},
   "outputs": [],
   "source": [
    "par.loc[wpars,\"parubnd\"] = 1.1\n",
    "par.loc[wpars,\"parlbnd\"] = 0.9\n",
    "pst.parameter_data"
   ]
  },
  {
   "cell_type": "code",
   "execution_count": null,
   "metadata": {},
   "outputs": [],
   "source": [
    "# now we need to rebuild the prior parameter covariance matrix\n",
    "cov = mfp_boss.build_prior()"
   ]
  },
  {
   "cell_type": "markdown",
   "metadata": {},
   "source": [
    "# Boom!"
   ]
  },
  {
   "cell_type": "code",
   "execution_count": null,
   "metadata": {},
   "outputs": [],
   "source": [
    "x = cov.x\n",
    "x[x==0.0] = np.NaN\n",
    "plt.imshow(x)"
   ]
  }
 ],
 "metadata": {
  "anaconda-cloud": {},
  "kernelspec": {
   "display_name": "Python 3 (ipykernel)",
   "language": "python",
   "name": "python3"
  },
  "language_info": {
   "codemirror_mode": {
    "name": "ipython",
    "version": 3
   },
   "file_extension": ".py",
   "mimetype": "text/x-python",
   "name": "python",
   "nbconvert_exporter": "python",
   "pygments_lexer": "ipython3",
   "version": "3.9.13"
  }
 },
 "nbformat": 4,
 "nbformat_minor": 4
}

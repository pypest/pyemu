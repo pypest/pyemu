{
 "cells": [
  {
   "cell_type": "markdown",
   "metadata": {},
   "source": [
    "#Matrix and Covariance\n",
    "\n",
    "The `mat_handler.py` module contains `matrix` class, which is the backbone of `pyemu`.  The `matrix` class overloads all common mathematical operators and also uses an \"auto-align\" functionality to line up matrix objects for multiplication, addition, etc. \n",
    "\n"
   ]
  },
  {
   "cell_type": "code",
   "execution_count": null,
   "metadata": {},
   "outputs": [],
   "source": [
    "from __future__ import print_function\n",
    "import os\n",
    "import numpy as np\n",
    "from pyemu import Matrix, Cov"
   ]
  },
  {
   "cell_type": "markdown",
   "metadata": {},
   "source": [
    "Here is the most basic instantiation of the `matrix` class:"
   ]
  },
  {
   "cell_type": "code",
   "execution_count": null,
   "metadata": {},
   "outputs": [],
   "source": [
    "m = Matrix()"
   ]
  },
  {
   "cell_type": "markdown",
   "metadata": {},
   "source": [
    "Here we will generate a `matrix` object with a random ndarray"
   ]
  },
  {
   "cell_type": "code",
   "execution_count": null,
   "metadata": {},
   "outputs": [],
   "source": [
    "a = np.random.random((5, 5))\n",
    "row_names = []\n",
    "[row_names.append(\"row_{0:02d}\".format(i)) for i in range(5)]\n",
    "col_names = []\n",
    "[col_names.append(\"col_{0:02d}\".format(i)) for i in range(5)]\n",
    "m = Matrix(x=a, row_names=row_names, col_names=col_names)\n",
    "print(m)"
   ]
  },
  {
   "cell_type": "markdown",
   "metadata": {},
   "source": [
    "#File I/O with `matrix`\n",
    "`matrix` supports several PEST-compatible I/O routines as well as some others:"
   ]
  },
  {
   "cell_type": "code",
   "execution_count": null,
   "metadata": {},
   "outputs": [],
   "source": [
    "ascii_name = \"mat_test.mat\"\n",
    "m.to_ascii(ascii_name)\n",
    "m2 = Matrix.from_ascii(ascii_name)\n",
    "print(m2)"
   ]
  },
  {
   "cell_type": "code",
   "execution_count": null,
   "metadata": {},
   "outputs": [],
   "source": [
    "bin_name = \"mat_test.bin\"\n",
    "m.to_binary(bin_name)\n",
    "m3 = Matrix.from_binary(bin_name)\n",
    "print(m3)"
   ]
  },
  {
   "cell_type": "markdown",
   "metadata": {},
   "source": [
    "`Matrix` also implements a `to_dataframe()` and a `to_sparse`, which return `pandas dataframe` and a `scipy.sparse` (compressed sparse row) objects, respectively:"
   ]
  },
  {
   "cell_type": "code",
   "execution_count": null,
   "metadata": {},
   "outputs": [],
   "source": [
    "print(type(m.to_dataframe()))\n",
    "m.to_dataframe() #looks really nice in the notebook!"
   ]
  },
  {
   "cell_type": "markdown",
   "metadata": {},
   "source": [
    "# Convenience methods of `Matrix`\n",
    "\n",
    "several cool things are implemented in `Matrix` and accessed through `@property` decorated methods.  For example, the SVD components of a `Matrix` object are simply accessed by name.  The SVD routine is called on demand and the components are cast to `Matrix` objects, all opaque to the user:"
   ]
  },
  {
   "cell_type": "code",
   "execution_count": null,
   "metadata": {},
   "outputs": [],
   "source": [
    "print(m.s) #the singular values of m cast into a matrix object.  the SVD() is called on demand\n",
    "m.s.to_ascii(\"test_sv.mat\") #save the singular values to a PEST-compatible ASCII file"
   ]
  },
  {
   "cell_type": "code",
   "execution_count": null,
   "metadata": {},
   "outputs": [],
   "source": [
    "m.v.to_ascii(\"test_v.mat\") #the right singular vectors of m.\n",
    "m.u.to_dataframe()# a data frame of the left singular vectors of m"
   ]
  },
  {
   "cell_type": "markdown",
   "metadata": {},
   "source": [
    "The `Matrix` inverse operation is accessed the same way, but requires a square matrix:"
   ]
  },
  {
   "cell_type": "code",
   "execution_count": null,
   "metadata": {},
   "outputs": [],
   "source": [
    "m.inv.to_dataframe()"
   ]
  },
  {
   "cell_type": "markdown",
   "metadata": {},
   "source": [
    "# Manipulating `Matrix` shape\n",
    "`Matrix` has lots of functionality to support getting submatrices by row and col names:"
   ]
  },
  {
   "cell_type": "code",
   "execution_count": null,
   "metadata": {},
   "outputs": [],
   "source": [
    "\n",
    "print(m.get(row_names=\"row_00\",col_names=[\"col_01\",\"col_03\"]))"
   ]
  },
  {
   "cell_type": "markdown",
   "metadata": {},
   "source": [
    "`extract()` calls `get()` then `drop()`:"
   ]
  },
  {
   "cell_type": "code",
   "execution_count": null,
   "metadata": {},
   "outputs": [],
   "source": [
    "from copy import deepcopy\n",
    "m_copy = deepcopy(m)\n",
    "sub_m = m_copy.extract(row_names=\"row_00\",col_names=[\"col_01\",\"col_03\"])\n",
    "m_copy.to_dataframe()\n",
    "sub_m.to_dataframe()"
   ]
  },
  {
   "cell_type": "markdown",
   "metadata": {},
   "source": [
    "# Operator overloading\n",
    "The operator overloading uses the auto-align functionality as well as the `isdiagonal` flag for super easy linear algebra.  The \"inner join\" of the two objects is found and the rows and cols are aligned appropriately:"
   ]
  },
  {
   "cell_type": "code",
   "execution_count": null,
   "metadata": {},
   "outputs": [],
   "source": [
    "#a new matrix object that is not \"aligned\" with m\n",
    "row_names = [\"row_03\",\"row_02\",\"row_00\"]\n",
    "col_names = [\"col_01\",\"col_10\",\"col_100\"]\n",
    "m_mix = Matrix(x=np.random.random((3,3)),row_names=row_names,col_names=col_names)\n",
    "m_mix.to_dataframe()\n"
   ]
  },
  {
   "cell_type": "code",
   "execution_count": null,
   "metadata": {},
   "outputs": [],
   "source": [
    "m.to_dataframe()"
   ]
  },
  {
   "cell_type": "code",
   "execution_count": null,
   "metadata": {},
   "outputs": [],
   "source": [
    "prod = m * m_mix.T\n",
    "prod.to_dataframe()"
   ]
  },
  {
   "cell_type": "code",
   "execution_count": null,
   "metadata": {},
   "outputs": [],
   "source": [
    "prod2 = m_mix.T * m\n",
    "prod2.to_dataframe()"
   ]
  },
  {
   "cell_type": "code",
   "execution_count": null,
   "metadata": {},
   "outputs": [],
   "source": [
    "(m_mix + m).to_dataframe()"
   ]
  },
  {
   "cell_type": "markdown",
   "metadata": {},
   "source": [
    "# The `Cov` derived type\n",
    "The `Cov` type is designed specifically to handle covariance matrices.  It makes some assumptions, such as the symmetry (and accordingly that row_names == col_names). "
   ]
  },
  {
   "cell_type": "code",
   "execution_count": null,
   "metadata": {},
   "outputs": [],
   "source": [
    "c = Cov(m.newx,m.row_names)"
   ]
  },
  {
   "cell_type": "markdown",
   "metadata": {},
   "source": [
    "The `Cov` class supports several additional I/O routines, including the PEST uncertainty file (.unc):"
   ]
  },
  {
   "cell_type": "code",
   "execution_count": null,
   "metadata": {},
   "outputs": [],
   "source": [
    "c.to_uncfile(\"test.unc\")"
   ]
  },
  {
   "cell_type": "code",
   "execution_count": null,
   "metadata": {},
   "outputs": [],
   "source": [
    "c1 = Cov.from_uncfile(\"test.unc\")\n",
    "print(c1)"
   ]
  },
  {
   "cell_type": "markdown",
   "metadata": {},
   "source": [
    "We can also build `cov` objects implied by pest control file parameter bounds or observation weights:"
   ]
  },
  {
   "cell_type": "code",
   "execution_count": null,
   "metadata": {},
   "outputs": [],
   "source": [
    "parcov = Cov.from_parbounds(os.path.join(\"henry\",\"pest.pst\"))\n",
    "obscov = Cov.from_obsweights(os.path.join(\"henry\",\"pest.pst\"))"
   ]
  },
  {
   "cell_type": "code",
   "execution_count": null,
   "metadata": {},
   "outputs": [],
   "source": [
    "#to_dataframe for diagonal types builds a full matrix dataframe - can be costly\n",
    "parcov.to_dataframe().head() "
   ]
  },
  {
   "cell_type": "code",
   "execution_count": null,
   "metadata": {},
   "outputs": [],
   "source": [
    "# notice the zero-weight obs have been assigned a really large uncertainty\n",
    "obscov.to_dataframe().head()"
   ]
  },
  {
   "cell_type": "code",
   "execution_count": null,
   "metadata": {},
   "outputs": [],
   "source": []
  },
  {
   "cell_type": "code",
   "execution_count": null,
   "metadata": {},
   "outputs": [],
   "source": []
  }
 ],
 "metadata": {
  "anaconda-cloud": {},
  "kernelspec": {
   "display_name": "Python 3",
   "language": "python",
   "name": "python3"
  },
  "language_info": {
   "codemirror_mode": {
    "name": "ipython",
    "version": 3
   },
   "file_extension": ".py",
   "mimetype": "text/x-python",
   "name": "python",
   "nbconvert_exporter": "python",
   "pygments_lexer": "ipython3",
   "version": "3.7.3"
  }
 },
 "nbformat": 4,
 "nbformat_minor": 1
}

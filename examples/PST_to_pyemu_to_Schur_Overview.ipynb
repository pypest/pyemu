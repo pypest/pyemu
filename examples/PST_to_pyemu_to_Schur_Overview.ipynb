{
 "cells": [
  {
   "cell_type": "code",
   "execution_count": null,
   "metadata": {},
   "outputs": [],
   "source": [
    "import pyemu\n",
    "import os, shutil\n",
    "import pandas as pd\n",
    "import flopy\n",
    "import numpy as np\n",
    "import platform\n",
    "from pathlib import Path"
   ]
  },
  {
   "cell_type": "markdown",
   "metadata": {},
   "source": [
    "# This notebook is designed to show high-level PST file generation and manipulation examples, and also highlight some of the steps that `Schur` object functions perform in a bit more detail\n",
    "\n",
    "The assumption is that a user has a model that `flopy` can grok. That's all we need, using the BOSS PEST-ification techniques `pyemu` has. "
   ]
  },
  {
   "cell_type": "markdown",
   "metadata": {},
   "source": [
    "##### Sandbox (this is mostly for test running safety)"
   ]
  },
  {
   "cell_type": "code",
   "execution_count": null,
   "metadata": {},
   "outputs": [],
   "source": [
    "org_model_ws = \"freyberg_sfr_update\"\n",
    "egpath = Path(\".\").absolute()\n",
    "while egpath.name != 'examples':\n",
    "    os.chdir('..')\n",
    "    egpath = Path(\".\").absolute()\n",
    "\n",
    "model_ws = Path(org_model_ws).absolute()\n",
    "tmp_path = Path(\"PST_to_pyemu_to_Schur\").absolute()\n",
    "\n",
    "EXE_DIR = Path(\"..\",\"bin\").absolute()\n",
    "if \"window\" in platform.platform().lower():\n",
    "    EXE_DIR = Path(EXE_DIR,\"win\")\n",
    "elif \"darwin\" in platform.platform().lower() or \"macos\" in platform.platform().lower():\n",
    "    EXE_DIR = Path(EXE_DIR,\"mac\")\n",
    "else:\n",
    "    EXE_DIR = Path(EXE_DIR,\"linux\")\n",
    "    \n",
    "basename = Path(model_ws).name\n",
    "new_d = Path(tmp_path, basename)\n",
    "if new_d.exists():\n",
    "    shutil.rmtree(new_d)\n",
    "Path(tmp_path).mkdir(exist_ok=True)\n",
    "# creation functionality\n",
    "shutil.copytree(model_ws, new_d)\n",
    "\n",
    "os.chdir(tmp_path)\n",
    "print(Path.cwd())"
   ]
  },
  {
   "cell_type": "code",
   "execution_count": null,
   "metadata": {},
   "outputs": [],
   "source": [
    "nam_file = \"freyberg.nam\"\n",
    "new_model_ws = \"pest_setup\"\n",
    "\n",
    "# load the model, change dir and run once to get a hydmod output file and list file\n",
    "m = flopy.modflow.Modflow.load(nam_file,model_ws=org_model_ws,check=False)\n",
    "m.change_model_ws(\"temp\",reset_external=True)\n",
    "m.name = nam_file.split(\".\")[0]\n",
    "\n",
    "# # let's just retain the calibration data for now by trimming HYDMOD\n",
    "# hyd = m.get_package('hyd')\n",
    "# hyddf = pd.DataFrame(hyd.obsdata)\n",
    "# #hyddf = hyddf.loc[[True if 'cr' in i.decode() else False for i in hyddf.hydlbl]]\n",
    "# hyd.obsdata = hyddf.to_records(index=False).astype(hyd.obsdata.dtype)\n",
    "# hyd.nhyd = len(hyd.obsdata)\n",
    "m.exe_name = 'mfnwt'\n",
    "m.write_input()\n",
    "\n",
    "[shutil.copy2(os.path.join(EXE_DIR,f),os.path.join('temp',f)) for f in os.listdir(EXE_DIR)]\n",
    "\n",
    "pyemu.helpers.run('{0} {1}'.format(m.exe_name,nam_file), cwd='temp')"
   ]
  },
  {
   "cell_type": "markdown",
   "metadata": {},
   "source": [
    "## Let's make some parameters. How about zones for HK and a constants for SY and RCH?"
   ]
  },
  {
   "cell_type": "code",
   "execution_count": null,
   "metadata": {},
   "outputs": [],
   "source": [
    "zn_array = np.loadtxt(os.path.join(egpath, \"Freyberg_Truth\",\"hk.zones\"))\n",
    "k_zone_dict = {k:zn_array for k in range(m.nlay)}\n",
    "const_props = []\n",
    "const_props.append([\"upw.sy\", None])\n",
    "const_props.append([\"rch.rech\",None])\n",
    "zone_props = [['upw.hk',0]]"
   ]
  },
  {
   "cell_type": "markdown",
   "metadata": {},
   "source": [
    "## Maybe we ought to also treat well pumping as an uncertain parameter"
   ]
  },
  {
   "cell_type": "code",
   "execution_count": null,
   "metadata": {},
   "outputs": [],
   "source": [
    "bc_props = [[\"wel.flux\",None]]"
   ]
  },
  {
   "cell_type": "code",
   "execution_count": null,
   "metadata": {},
   "outputs": [],
   "source": [
    "mfp = pyemu.helpers.PstFromFlopyModel(m,new_model_ws=\"schur_test\",zone_props=zone_props,\n",
    "                                          const_props=const_props,k_zone_dict=k_zone_dict,\n",
    "                                          remove_existing=True,temporal_bc_props=bc_props)\n",
    "\n",
    "[shutil.copy2(os.path.join(EXE_DIR,f),os.path.join(\"schur_test\",f)) for f in os.listdir(EXE_DIR)]"
   ]
  },
  {
   "cell_type": "markdown",
   "metadata": {},
   "source": [
    "# Cool - let's take a quick look at the PST control file this made"
   ]
  },
  {
   "cell_type": "code",
   "execution_count": null,
   "metadata": {},
   "outputs": [],
   "source": [
    "inpst = mfp.pst"
   ]
  },
  {
   "cell_type": "code",
   "execution_count": null,
   "metadata": {},
   "outputs": [],
   "source": [
    "inpst.parameter_data"
   ]
  },
  {
   "cell_type": "markdown",
   "metadata": {},
   "source": [
    "# Looks like we have multipliers on our zones. Let's set `noptmax` to -1 to calculate a Jacobian matrix and then see what `pyemu` functionality we can light up"
   ]
  },
  {
   "cell_type": "markdown",
   "metadata": {},
   "source": [
    "## First, though, we can report all the control data to see `noptmax` and everything else"
   ]
  },
  {
   "cell_type": "code",
   "execution_count": null,
   "metadata": {},
   "outputs": [],
   "source": [
    "inpst.control_data.formatted_values"
   ]
  },
  {
   "cell_type": "code",
   "execution_count": null,
   "metadata": {},
   "outputs": [],
   "source": [
    "inpst.control_data.noptmax=-1\n",
    "inpst.write(os.path.join('schur_test','freyberg_pest.pst'))"
   ]
  },
  {
   "cell_type": "code",
   "execution_count": null,
   "metadata": {},
   "outputs": [],
   "source": [
    "num_workers = 5\n",
    "pyemu.helpers.start_workers('schur_test','pestpp-glm','freyberg_pest.pst',\n",
    "                            num_workers=num_workers,master_dir=\"master_glm\")"
   ]
  },
  {
   "cell_type": "markdown",
   "metadata": {},
   "source": [
    "# Now, once we have a Jacobian matrix, we can create a posterior Schur complement object. If we don't pass an explicit covariance matrix, the object will use parameter bounds for the prior variance (diagonal matrix) for parameters (also note that if no `.pst` file was passed, `pyemu` will look for one with the same root name in the same location as the `.jco` file that was passed."
   ]
  },
  {
   "cell_type": "code",
   "execution_count": null,
   "metadata": {},
   "outputs": [],
   "source": [
    "sc = pyemu.Schur(os.path.join('master_glm','freyberg_pest.jcb'),verbose=True)"
   ]
  },
  {
   "cell_type": "code",
   "execution_count": null,
   "metadata": {},
   "outputs": [],
   "source": [
    "sc.get_parameter_summary()"
   ]
  },
  {
   "cell_type": "code",
   "execution_count": null,
   "metadata": {},
   "outputs": [],
   "source": [
    "sc.jco.col_names"
   ]
  }
 ],
 "metadata": {
  "anaconda-cloud": {},
  "kernelspec": {
   "display_name": "Python 3 (ipykernel)",
   "language": "python",
   "name": "python3"
  },
  "language_info": {
   "codemirror_mode": {
    "name": "ipython",
    "version": 3
   },
   "file_extension": ".py",
   "mimetype": "text/x-python",
   "name": "python",
   "nbconvert_exporter": "python",
   "pygments_lexer": "ipython3",
   "version": "3.9.13"
  }
 },
 "nbformat": 4,
 "nbformat_minor": 4
}

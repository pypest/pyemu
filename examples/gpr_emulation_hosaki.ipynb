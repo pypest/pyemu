{
 "cells": [
  {
   "cell_type": "markdown",
   "id": "4a6476de-2712-42c7-98e6-c44b101a2599",
   "metadata": {},
   "source": [
    "# A verbose walk thru of gaussian-process-regression emulation for global optimization\n",
    "\n",
    "In this notebook, we go thru much pain to demonstrate how GPR can be used for so-called \"bayesian optimization\" (BO) with a very naive in-filling strategy.  Many of the steps and operations in this notebook are done only for the purposes of hoping to explain how GPR emulation works in the context of global evolutionary optimization.\n",
    "\n",
    "We will be using the well-known hosaki function for this analysis"
   ]
  },
  {
   "cell_type": "code",
   "execution_count": null,
   "id": "b606d2c1-77a3-4c5a-a86f-daba87f86ffa",
   "metadata": {},
   "outputs": [],
   "source": [
    "import os\n",
    "import shutil\n",
    "import pandas as pd\n",
    "import numpy as np\n",
    "import matplotlib.pyplot as plt\n",
    "import pyemu"
   ]
  },
  {
   "cell_type": "markdown",
   "id": "0be48c02-b616-4d9b-a0f9-73367807f359",
   "metadata": {},
   "source": [
    "First we need to prepare for the GPR experiments.  Let's get the original model directory and copy it"
   ]
  },
  {
   "cell_type": "code",
   "execution_count": null,
   "id": "a93b7992-77dd-47d7-8312-c17657798d4b",
   "metadata": {},
   "outputs": [],
   "source": [
    "org_d = os.path.join(\"..\",\"autotest\",\"utils\",\"hosaki_template\")\n",
    "assert os.path.exists(org_d)"
   ]
  },
  {
   "cell_type": "code",
   "execution_count": null,
   "id": "a4c697d1-5965-4322-808c-3d7f43b6e67f",
   "metadata": {},
   "outputs": [],
   "source": [
    "t_d = \"hosaki_template\"\n",
    "if os.path.exists(t_d):\n",
    "    shutil.rmtree(t_d)\n",
    "shutil.copytree(org_d,t_d)"
   ]
  },
  {
   "cell_type": "code",
   "execution_count": null,
   "id": "696588ca-673c-4353-bc2b-7b58a8f28f2d",
   "metadata": {},
   "outputs": [],
   "source": [
    "pst = pyemu.Pst(os.path.join(t_d,\"pest.pst\"))"
   ]
  },
  {
   "cell_type": "code",
   "execution_count": null,
   "id": "af8605ae-1a6a-4732-96c7-0e53492b9f5d",
   "metadata": {},
   "outputs": [],
   "source": [
    "par = pst.parameter_data\n",
    "par"
   ]
  },
  {
   "cell_type": "markdown",
   "id": "6a114403-c957-42d8-bb0c-1688835b866a",
   "metadata": {},
   "source": [
    "The hosaki function only has two decision variables - its very simple.  But in general, GPR-based emulation does not scale to extreme dimensions (like those seem in ensemble-based DA), but well within the space of global (multi-objective) optimization, so its an obvious pairing with pestpp-mou...\n",
    "\n",
    "The hosaki function only has 1 objective and no constraints and our goal is to minimize this single objective:"
   ]
  },
  {
   "cell_type": "code",
   "execution_count": null,
   "id": "ea64aa47-fe75-494d-9c36-e28a6aebc43e",
   "metadata": {},
   "outputs": [],
   "source": [
    "pst.observation_data"
   ]
  },
  {
   "cell_type": "markdown",
   "id": "e34038c7-39f6-47e6-8114-aa3c75afe762",
   "metadata": {},
   "source": [
    "First, lets sweep over decision variable space so that we can map the \"true\" objective function surface. You would never do this in practice but it helps us understand the GPR emulation process:"
   ]
  },
  {
   "cell_type": "code",
   "execution_count": null,
   "id": "a6e8e756-9513-4140-922c-76cc7a347a83",
   "metadata": {},
   "outputs": [],
   "source": [
    "pvals = []\n",
    "#feel free to change this to a larger number (like 20-30) to get a higher resolution map\n",
    "# we keep it small so that the pyemu testing on github is faster...\n",
    "sweep_steps = 15\n",
    "for p1 in np.linspace(par.parlbnd.iloc[0],par.parubnd.iloc[0],sweep_steps):\n",
    "    for p2 in np.linspace(par.parlbnd.iloc[0],par.parubnd.iloc[0],sweep_steps):\n",
    "        pvals.append([p1,p2])\n",
    "pvals = pd.DataFrame(pvals,columns=pst.par_names)\n",
    "pvals.to_csv(os.path.join(t_d,\"sweep_in.csv\"))\n",
    "pst.pestpp_options[\"ies_par_en\"] = \"sweep_in.csv\"\n",
    "pst.control_data.noptmax = -1\n",
    "sweep_d = os.path.join(\"hosaki_sweep\")\n",
    "pst.pestpp_options[\"ies_include_base\"] = False\n",
    "\n",
    "pst.write(os.path.join(t_d,\"pest.pst\"))\n",
    "port = 5544\n",
    "num_workers = 30\n",
    "\n",
    "pyemu.os_utils.start_workers(t_d,\"pestpp-ies\",\"pest.pst\",\n",
    "                             num_workers=num_workers,\n",
    "                             master_dir=sweep_d,worker_root='.',\n",
    "                             port=port)\n"
   ]
  },
  {
   "cell_type": "markdown",
   "id": "77d54f6a-3ee6-4604-97c5-5875ee83d56e",
   "metadata": {},
   "source": [
    "And lets load up the sweep results so we can plot:"
   ]
  },
  {
   "cell_type": "code",
   "execution_count": null,
   "id": "182ae0b3-cb09-41ae-8699-c29299b6170c",
   "metadata": {},
   "outputs": [],
   "source": [
    "sweep_pe = pd.read_csv(os.path.join(sweep_d,\"pest.0.par.csv\"),index_col=0)\n",
    "sweep_oe = pd.read_csv(os.path.join(sweep_d,\"pest.0.obs.csv\"),index_col=0)\n",
    "sweep_x = sweep_pe.loc[:,pst.par_names[0]].values.reshape(sweep_steps,sweep_steps)\n",
    "sweep_y = sweep_pe.loc[:,pst.par_names[1]].values.reshape(sweep_steps,sweep_steps)\n",
    "sweep_z = sweep_oe.loc[:,pst.obs_names[0]].values.reshape(sweep_steps,sweep_steps)"
   ]
  },
  {
   "cell_type": "code",
   "execution_count": null,
   "id": "30530fcc-e87c-415c-94d6-fa6461cee3a9",
   "metadata": {},
   "outputs": [],
   "source": [
    "def get_obj_map(ax,_sweep_x,_sweep_y,_sweep_z,label=\"objective function\",\n",
    "                levels=[-2,-1,0,0.5],vmin=-2,vmax=0.5,cmap=\"magma\"): \n",
    "    \"\"\"a simple function to plot an objective function surface\"\"\"\n",
    "    cb = ax.pcolormesh(_sweep_x,_sweep_y,_sweep_z,vmin=vmin,vmax=vmax,cmap=cmap)\n",
    "    plt.colorbar(cb,ax=ax,label=label)\n",
    "    ax.contour(_sweep_x,_sweep_y,_sweep_z,levels=levels,colors=\"w\")\n",
    "    \n",
    "    ax.set_aspect(\"equal\")\n",
    "    return ax"
   ]
  },
  {
   "cell_type": "code",
   "execution_count": null,
   "id": "1593010d-1caf-4ea6-926e-57d3b468c956",
   "metadata": {},
   "outputs": [],
   "source": [
    "fig,ax = plt.subplots(1,1,figsize=(6,5))\n",
    "_ = get_obj_map(ax,sweep_x,sweep_y,sweep_z)\n",
    "ax.set_title(\"truth\",loc=\"left\")\n",
    "plt.show()\n",
    "plt.close(fig)"
   ]
  },
  {
   "cell_type": "markdown",
   "id": "f83a0143-3fed-44ef-9f94-60073fbf4a33",
   "metadata": {},
   "source": [
    "So that is the true objective function surface with the global minimum at (4,2) and a local minimum at (1,2).\n",
    "\n",
    "The GPR BO workflow starts by first evaluating an initial population with the complex and expensive to run \"model\", which here is just the simple hosaki function.  In practice, this will be an expensive and complex process based model.  To make this demo more interesting, we will limit the decision variable search space to not include the global minimum (and really 10 members in the initial population is pretty crazy small - just for demo!).  If we dont limit the search space and use a larger initial population, the GPR process nails it in the first go..."
   ]
  },
  {
   "cell_type": "code",
   "execution_count": null,
   "id": "4db01f0d-71bd-4cdd-bd0d-d5e870861e19",
   "metadata": {},
   "outputs": [],
   "source": [
    "m_d = \"hosaki_model_master\"\n",
    "if os.path.exists(m_d):\n",
    "    shutil.rmtree(m_d)\n",
    "pst.pestpp_options[\"mou_population_size\"] = 10\n",
    "pst.control_data.noptmax = -1\n",
    "par = pst.parameter_data\n",
    "par.loc[pst.par_names[0],\"parubnd\"] = 3\n",
    "par.loc[pst.par_names[0],\"parval1\"] = 1.5\n",
    "pst.write(os.path.join(t_d,\"pest.pst\"))\n",
    "num_workers = 10\n",
    "pyemu.os_utils.start_workers(t_d,\"pestpp-mou\",\"pest.pst\",\n",
    "                                 num_workers=num_workers,\n",
    "                                 master_dir=m_d,worker_root='.',\n",
    "                                 port=port)\n"
   ]
  },
  {
   "cell_type": "markdown",
   "id": "7a4482a5-4315-425a-8d62-1558ecc38a09",
   "metadata": {},
   "source": [
    "Now load the initial training input-output pairs"
   ]
  },
  {
   "cell_type": "code",
   "execution_count": null,
   "id": "f8875b40-bfa1-46ad-91d1-9b68338dc03e",
   "metadata": {},
   "outputs": [],
   "source": [
    "training_dvpop_fname = os.path.join(m_d,\"pest.0.dv_pop.csv\")\n",
    "training_opop_fname = os.path.join(m_d,\"pest.0.obs_pop.csv\")"
   ]
  },
  {
   "cell_type": "markdown",
   "id": "e828f158-c1a0-4ce6-b9fa-0095738b333e",
   "metadata": {},
   "source": [
    "and we can plot them to visual where we have training points on the actual true surface"
   ]
  },
  {
   "cell_type": "code",
   "execution_count": null,
   "id": "9d0a1063-66ee-42c9-a7d5-faf303509c69",
   "metadata": {},
   "outputs": [],
   "source": [
    "training_dvpop = pd.read_csv(training_dvpop_fname,index_col=0)\n",
    "training_opop = pd.read_csv(training_opop_fname,index_col=0)\n",
    "fig,ax = plt.subplots(1,1,figsize=(6,5))\n",
    "get_obj_map(ax,sweep_x,sweep_y,sweep_z)\n",
    "ax.scatter(training_dvpop.loc[:,pst.par_names[0]],training_dvpop.loc[:,pst.par_names[1]],marker='^',c='w',s=20)\n",
    "ax.set_title(\"true objective function surface with training points\")\n",
    "plt.show()\n",
    "plt.close(fig)\n",
    "           "
   ]
  },
  {
   "cell_type": "markdown",
   "id": "89d437f7-1020-4644-ad30-3170a3dd37fc",
   "metadata": {},
   "source": [
    "Those white triangles are the places where we have actually run the model - in practice we will never have the colormap or the contours - those are just to help us understand what is happening...and remember: that is a purposefully sparse training dataset!\n",
    "\n",
    "This function is where the magic happens: we use the decision variable population and resulting output/observation population to setup the GPR emulation process.  Note that `pyemu.helpers.prep_for_gpr()` function setups and training a GPR emulator for each non-zero weighted observation in the control file... "
   ]
  },
  {
   "cell_type": "code",
   "execution_count": null,
   "id": "a1c3ae81-26bb-41c8-bccc-6c32c55c100d",
   "metadata": {},
   "outputs": [],
   "source": [
    "def prep_for_gpr(dvpops,opops,gpr_t_d,noptmax=-1):\n",
    "    # this helper does the heavy lifting.  We are including the optional GPR emulated standard deviations\n",
    "    # as \"observations\".  These quantities are the standard deviation of the emulated objective function value\n",
    "    # with respect to the GPR process - this is a unique and very powerful aspect of GPR vs other\n",
    "    #data-driven techniques.  We will use these obs to visualize the uncertainty in the \n",
    "    # GPR objectve function surface later...\n",
    "    pyemu.helpers.prep_for_gpr(os.path.join(t_d,\"pest.pst\"),dvpops,opops,gpr_t_d=gpr_t_d,plot_fits=True,\n",
    "                               include_emulated_std_obs=True)\n",
    "    # now load the newly created gpr-based pst file:\n",
    "    gpst = pyemu.Pst(os.path.join(gpr_t_d,\"pest.pst\"))\n",
    "    #and copy the sweep input file that lets us run the full response surface\n",
    "    # in practice, you dont need this either...\n",
    "    shutil.copy2(os.path.join(sweep_d,\"sweep_in.csv\"),os.path.join(gpr_t_d,\"sweep_in.csv\"))\n",
    "    # some bits and bobs:\n",
    "    gpst.control_data.noptmax = noptmax\n",
    "    gpst.pestpp_options[\"ies_include_base\"] = False\n",
    "    gpst.pestpp_options[\"mou_save_population_every\"] = 1\n",
    "    gpst.pestpp_options.pop(\"mou_dv_population_file\",None)\n",
    "    par = gpst.parameter_data\n",
    "    par.loc[:,\"parlbnd\"] = 0.0\n",
    "    par.loc[:,\"parubnd\"] = 5.0\n",
    "    par.loc[:,\"parval1\"] = 2.5    \n",
    "    \n",
    "    gpst.write(os.path.join(gpr_t_d,\"pest.pst\"),version=2)\n",
    "    return gpst"
   ]
  },
  {
   "cell_type": "markdown",
   "id": "3d2f2533-8920-45cd-b33c-e082d69cb0d9",
   "metadata": {},
   "source": [
    "One important consideration here: In this simple demo, we only have one objective.  That means we have to be careful not to drive the emulator to a single best-fit solution (which we do by using only a few generations when we run mou), but we also need to sure that we start the emulator-driven mou runs with a fully dispersed initial population.  But!  In a multiobjective run, the final generation for mou is naturally disperesed because of the pareto frontier search, so in the multiobjective setting, we probably want to start the emulated mou run with the existing population to keep us from having to research all of decision variable space for the nondominated solutions.  This isnt a hard-and-fast rule, but it seems to be generally applicable\n",
    "\n",
    "The GPR helper in pyemu accepts a list of input and output filenames to make it easier to repeatedly retrain the GPR emulators:"
   ]
  },
  {
   "cell_type": "code",
   "execution_count": null,
   "id": "251d15a4-c695-4340-81e3-8c7600f6d198",
   "metadata": {},
   "outputs": [],
   "source": [
    "training_dvpop_fnames = [training_dvpop_fname]\n",
    "training_opop_fnames = [training_opop_fname]"
   ]
  },
  {
   "cell_type": "code",
   "execution_count": null,
   "id": "eaa524df-9a1e-4975-8c0d-9774e077839f",
   "metadata": {},
   "outputs": [],
   "source": [
    "gpr_t_d = t_d + \"_gpr\"\n",
    "gpst = prep_for_gpr(training_dvpop_fnames,training_opop_fnames,gpr_t_d)"
   ]
  },
  {
   "cell_type": "code",
   "execution_count": null,
   "id": "208fd361-7cec-4205-9b09-dd4af6b8a624",
   "metadata": {},
   "outputs": [],
   "source": [
    "gpst.observation_data"
   ]
  },
  {
   "cell_type": "markdown",
   "id": "0befe6ee-4a00-4874-be8c-66ce6118730d",
   "metadata": {},
   "source": [
    "We see the original \"sim\" observation (which is the objective function we are trying to minimize), but we also see the optional GPR-estimated standard devivation\n",
    "\n",
    "Let's see what was created in the new GPR-based template directory:"
   ]
  },
  {
   "cell_type": "code",
   "execution_count": null,
   "id": "d733ad63-126e-47f7-9bec-b28e1ab758cd",
   "metadata": {},
   "outputs": [],
   "source": [
    "os.listdir(gpr_t_d)"
   ]
  },
  {
   "cell_type": "markdown",
   "id": "2c83d09e-98e0-4025-bb05-28decb6b26b2",
   "metadata": {},
   "source": [
    "two very important files in that dir:  the new forward run python script and a series of pickle files, one per objective and one per active constraint in the optimization problem.  Essentially, we need to build a GPR-based emulator for each output that is relavent to the optimization problem.  We also dont want to rebuild these emulators everytime we run the model, so we store the trained GPR emulators in pickle files and load them up as needed:"
   ]
  },
  {
   "cell_type": "code",
   "execution_count": null,
   "id": "4b0086a7-fefb-4172-be2b-93b8ce73cba0",
   "metadata": {},
   "outputs": [],
   "source": [
    "with open(os.path.join(gpr_t_d,\"forward_run.py\"),'r') as f:\n",
    "    for line in f:\n",
    "        print(line,end=\"\")"
   ]
  },
  {
   "cell_type": "markdown",
   "id": "4b60a402-d9bb-419c-92ca-df0cc8919945",
   "metadata": {},
   "source": [
    "So we simply loop over all relavent model outputs that have a GPR emulator and \"emulate\" the value of the model output given the current decision variable values.  easy as!"
   ]
  },
  {
   "cell_type": "markdown",
   "id": "54f493fb-a1f7-4248-9a5b-b884a7ab9a84",
   "metadata": {},
   "source": [
    "Now, just for learning, lets sweep over decision variable space but evaluate the GPR emulated objective function value.  You would never do this in practice, but it can be informative:"
   ]
  },
  {
   "cell_type": "code",
   "execution_count": null,
   "id": "595ea30a-df3b-48f4-9375-82dff4f77e58",
   "metadata": {},
   "outputs": [],
   "source": [
    "gpr_sweep_d = sweep_d+\"_gpr\"\n",
    "num_workers = 30\n",
    "pyemu.os_utils.start_workers(gpr_t_d,\"pestpp-ies\",\"pest.pst\",\n",
    "                             num_workers=num_workers,\n",
    "                             master_dir=gpr_sweep_d,worker_root='.',\n",
    "                             port=port)\n"
   ]
  },
  {
   "cell_type": "markdown",
   "id": "d7ecb069-da8c-4d6a-a968-2f047ad672d9",
   "metadata": {},
   "source": [
    "Just a helper function to visual the results of the GPR (re-)training:"
   ]
  },
  {
   "cell_type": "code",
   "execution_count": null,
   "id": "406fab70-18e1-43e8-8edb-ffea73348dcc",
   "metadata": {},
   "outputs": [],
   "source": [
    "def plot_gpr_sweep_results(_gpr_sweep_d,_training_dvpop):\n",
    "    #load the gpr sweep results to viz the emulated objective function surface\n",
    "    sweep_gpr_pe = pd.read_csv(os.path.join(_gpr_sweep_d,\"pest.0.par.csv\"),index_col=0)\n",
    "    sweep_gpr_oe = pd.read_csv(os.path.join(_gpr_sweep_d,\"pest.0.obs.csv\"),index_col=0)\n",
    "    gpr_sweep_x = sweep_gpr_pe.loc[:,gpst.par_names[0]].values.reshape(sweep_steps,sweep_steps)\n",
    "    gpr_sweep_y = sweep_gpr_pe.loc[:,gpst.par_names[1]].values.reshape(sweep_steps,sweep_steps)\n",
    "    gpr_sweep_z = sweep_gpr_oe.loc[:,gpst.obs_names[0]].values.reshape(sweep_steps,sweep_steps)\n",
    "    gpr_sweep_stdev_z = sweep_gpr_oe.loc[:,gpst.obs_names[1]].values.reshape(sweep_steps,sweep_steps)\n",
    "    \n",
    "    # plot it up:\n",
    "    fig, axes = plt.subplots(2,2,figsize=(10,8))\n",
    "    axes = axes.flatten()\n",
    "    get_obj_map(axes[0],sweep_x,sweep_y,sweep_z)\n",
    "    get_obj_map(axes[1],gpr_sweep_x,gpr_sweep_y,gpr_sweep_z)\n",
    "    axes[1].scatter(_training_dvpop.loc[:,pst.par_names[0]],_training_dvpop.loc[:,pst.par_names[1]],marker='^',c='w',s=20)\n",
    "    diff = sweep_z-gpr_sweep_z\n",
    "    amax = np.abs(diff).max()\n",
    "    get_obj_map(axes[2],gpr_sweep_x,gpr_sweep_y,sweep_z-gpr_sweep_z,label=\"truth minus emulated\",levels=None,vmin=-amax,vmax=amax,cmap=\"bwr\")\n",
    "    get_obj_map(axes[3],gpr_sweep_x,gpr_sweep_y,gpr_sweep_stdev_z,label=\"GPR stdev\",levels=None,\n",
    "                vmin=gpr_sweep_stdev_z.min(),vmax=gpr_sweep_stdev_z.max(),cmap=\"jet\")\n",
    "    axes[2].scatter(training_dvpop.loc[:,pst.par_names[0]],training_dvpop.loc[:,pst.par_names[1]],marker='^',c='w',s=20)\n",
    "    \n",
    "    axes[0].set_title(\"truth\",loc=\"left\")\n",
    "    axes[1].set_title(\"emulated with training points\",loc=\"left\")\n",
    "    axes[2].set_title(\"difference with training points\",loc=\"left\")\n",
    "    axes[3].set_title(\"GPR standard deviation\",loc=\"left\")\n",
    "    plt.show()"
   ]
  },
  {
   "cell_type": "code",
   "execution_count": null,
   "id": "aa665546-50f3-4f59-8e89-73a17760f6d9",
   "metadata": {},
   "outputs": [],
   "source": [
    "plot_gpr_sweep_results(gpr_sweep_d,training_dvpop)"
   ]
  },
  {
   "cell_type": "markdown",
   "id": "9668435c-ccb4-486b-8423-d864251d55d0",
   "metadata": {},
   "source": [
    "OK!  now we can see whats happening - the emulated objective function surface is strongly controlled by the location of the training data points, and, is this case, its not a good representation of the truth surface...yet...it should also be clear that the uncertainty in the GPR emulation is lowest near the training points but is highly uncertain as we move away from the training - just like geostatistics!\n",
    "\n",
    "But now lets run pestpp-mou on the GPR emulated model.  This is usually quite fast, especially if the process model that is being emulated takes more than a few mins to run..."
   ]
  },
  {
   "cell_type": "code",
   "execution_count": null,
   "id": "b6d5d98d-3143-4833-a6de-13a3319d0ca2",
   "metadata": {},
   "outputs": [],
   "source": [
    "gpst.control_data.noptmax = 8\n",
    "gpst.pestpp_options[\"mou_population_size\"] = 20\n",
    "gpst.write(os.path.join(gpr_t_d,\"pest.pst\"))\n",
    "gpr_m_d = gpr_t_d.replace(\"template\",\"master\")\n",
    "num_workers = 20\n",
    "pyemu.os_utils.start_workers(gpr_t_d,\"pestpp-mou\",\"pest.pst\",\n",
    "                             num_workers=num_workers,\n",
    "                             master_dir=gpr_m_d,worker_root='.',\n",
    "                             port=port)"
   ]
  },
  {
   "cell_type": "markdown",
   "id": "fd89d01b-d4d2-4f09-a008-c10ae9ab5bf1",
   "metadata": {},
   "source": [
    "Now lets plot how the pestpp-mou population evolves across the emulated surface, but also plot it on the true surface just to help us understand what is happening"
   ]
  },
  {
   "cell_type": "code",
   "execution_count": null,
   "id": "a769de5f-58b0-432a-a9d6-418ea7ee2586",
   "metadata": {},
   "outputs": [],
   "source": [
    "def plot_gpr_mou_results(_gpr_m_d,_gpr_sweep_d):\n",
    "    sweep_gpr_pe = pd.read_csv(os.path.join(_gpr_sweep_d,\"pest.0.par.csv\"),index_col=0)\n",
    "    sweep_gpr_oe = pd.read_csv(os.path.join(_gpr_sweep_d,\"pest.0.obs.csv\"),index_col=0)\n",
    "    gpr_sweep_x = sweep_gpr_pe.loc[:,gpst.par_names[0]].values.reshape(sweep_steps,sweep_steps)\n",
    "    gpr_sweep_y = sweep_gpr_pe.loc[:,gpst.par_names[1]].values.reshape(sweep_steps,sweep_steps)\n",
    "    gpr_sweep_z = sweep_gpr_oe.loc[:,gpst.obs_names[0]].values.reshape(sweep_steps,sweep_steps)\n",
    "    gpr_sweep_stdev_z = sweep_gpr_oe.loc[:,gpst.obs_names[1]].values.reshape(sweep_steps,sweep_steps)\n",
    "    \n",
    "    gpr_dvpops = [os.path.join(_gpr_m_d,f) for f in os.listdir(_gpr_m_d) if len(f.split('.')) == 4 and f.endswith(\"dv_pop.csv\") and \"archive\" not in f]\n",
    "    gpr_dvpops_itr = [int(f.split(\".\")[1]) for f in gpr_dvpops]\n",
    "    gpr_dvpops = {itr:pd.read_csv(f,index_col=0) for itr,f in zip(gpr_dvpops_itr,gpr_dvpops)}\n",
    "    for itr in range(max(gpr_dvpops_itr)):\n",
    "        fig,axes = plt.subplots(1,2,figsize=(10,4))\n",
    "        ax = axes[0]\n",
    "        get_obj_map(ax,sweep_x,sweep_y,sweep_z)\n",
    "        ax.scatter(gpr_dvpops[itr].loc[:,gpst.par_names[0]],gpr_dvpops[itr].loc[:,gpst.par_names[1]],marker='.',c='w',s=10)\n",
    "        ax.set_title(\"truth generation {0}\".format(itr),loc=\"left\")\n",
    "        ax = axes[1]\n",
    "        get_obj_map(ax,gpr_sweep_x,gpr_sweep_y,gpr_sweep_z)\n",
    "        ax.scatter(gpr_dvpops[itr].loc[:,gpst.par_names[0]],gpr_dvpops[itr].loc[:,gpst.par_names[1]],marker='.',c='w',s=10)\n",
    "        ax.set_title(\"emulated generation {0}\".format(itr),loc=\"left\")\n",
    "        plt.show()\n",
    "        plt.close(fig)"
   ]
  },
  {
   "cell_type": "code",
   "execution_count": null,
   "id": "a29183f3-3c7c-40de-a068-5035a5cf7bb8",
   "metadata": {},
   "outputs": [],
   "source": [
    "plot_gpr_mou_results(gpr_m_d,gpr_sweep_d)"
   ]
  },
  {
   "cell_type": "markdown",
   "id": "738f6e14-b896-48db-8e1e-59dcbf270245",
   "metadata": {},
   "source": [
    "So just what you expected?  Essentially pestpp-mou converged to the minimum of the objective function we gave it, which is the emulated objective function...at this stage the emulated objective function is a poor represetation of the truth objective function....\n",
    "\n",
    "Now this where some more cleverness happens:  Lets take that last emulated decision variable population and actually run it thru the complex \"model\" (which in this case is just the hosaki function...).  This is so that we can \"in-fill\" our GPR emulator with this new points in decision variable space.  In practice, a lot more cleverness needs to happen to actually decide which points, but for this lil demo, it works..."
   ]
  },
  {
   "cell_type": "code",
   "execution_count": null,
   "id": "2a9a889e-fa11-40d2-a3f8-da29aa7c17d6",
   "metadata": {},
   "outputs": [],
   "source": [
    "gpr_dvpops = [os.path.join(gpr_m_d,f) for f in os.listdir(gpr_m_d) if len(f.split('.')) == 4 and f.endswith(\"dv_pop.csv\") and \"archive\" not in f]\n",
    "gpr_dvpops_itr = [int(f.split(\".\")[1]) for f in gpr_dvpops]\n",
    "gpr_dvpops = {itr:pd.read_csv(f,index_col=0) for itr,f in zip(gpr_dvpops_itr,gpr_dvpops)}\n",
    "gpr_dvpops[max(gpr_dvpops_itr)].to_csv(os.path.join(t_d,\"retrain_1_dvpop.csv\"))\n",
    "pst.pestpp_options[\"mou_dv_population_file\"] = \"retrain_1_dvpop.csv\"\n",
    "pst.control_data.noptmax = -1\n",
    "pst.write(os.path.join(t_d,\"pest.pst\"))\n"
   ]
  },
  {
   "cell_type": "code",
   "execution_count": null,
   "id": "35a5e11b-9ece-4b87-ba75-d402d113dbd7",
   "metadata": {},
   "outputs": [],
   "source": [
    "m_d += \"_1\"\n",
    "num_workers = 10\n",
    "pyemu.os_utils.start_workers(t_d,\"pestpp-mou\",\"pest.pst\",\n",
    "                                 num_workers=num_workers,\n",
    "                                 master_dir=m_d,worker_root='.',\n",
    "                                 port=port)"
   ]
  },
  {
   "cell_type": "markdown",
   "id": "e6fbb6ab-6457-4ed9-bba6-42bdeb9d28a8",
   "metadata": {},
   "source": [
    "Now load the newly evaluated training points:"
   ]
  },
  {
   "cell_type": "code",
   "execution_count": null,
   "id": "26d65204-8abb-4161-baa5-1e5c21d24f27",
   "metadata": {},
   "outputs": [],
   "source": [
    "training_dvpop_fname1 = os.path.join(m_d,\"pest.0.dv_pop.csv\")\n",
    "training_opop_fname1 = os.path.join(m_d,\"pest.0.obs_pop.csv\")"
   ]
  },
  {
   "cell_type": "markdown",
   "id": "69f6a35c-9492-4a67-9b53-0f612382a345",
   "metadata": {},
   "source": [
    "And combine these new points with the points we already had (the original few places where we ran the model at the beginning):"
   ]
  },
  {
   "cell_type": "code",
   "execution_count": null,
   "id": "1018f548-ec0a-446d-a3a3-43cf7723bb64",
   "metadata": {},
   "outputs": [],
   "source": [
    "training_dvpop1 = pd.read_csv(training_dvpop_fname1,index_col=0)\n",
    "training_opop1 = pd.read_csv(training_opop_fname1,index_col=0)\n",
    "training_dvpop = pd.concat([training_dvpop,training_dvpop1])\n",
    "training_opop = pd.concat([training_opop,training_opop1])\n",
    "\n",
    "fig,ax = plt.subplots(1,1,figsize=(6,5))\n",
    "get_obj_map(ax,sweep_x,sweep_y,sweep_z)\n",
    "ax.scatter(training_dvpop.loc[:,pst.par_names[0]],training_dvpop.loc[:,pst.par_names[1]],marker='^',c='w',s=20)\n",
    "plt.show()\n",
    "plt.close(fig)"
   ]
  },
  {
   "cell_type": "markdown",
   "id": "225d90ef-2cff-4799-b745-2e9a033606f7",
   "metadata": {},
   "source": [
    "See how we have combined the original points and the new points?\n",
    "\n",
    "Now lets re-do the GPR training process with this combined decision variable and output/observation population"
   ]
  },
  {
   "cell_type": "code",
   "execution_count": null,
   "id": "f8046665-4e0b-4f0f-a197-b0be3b4f7a4c",
   "metadata": {},
   "outputs": [],
   "source": [
    "training_dvpop_fnames.append(training_dvpop_fname1)\n",
    "training_opop_fnames.append(training_opop_fname1)\n",
    "gpr_t_d = t_d + \"_gpr1\"\n",
    "gpst = prep_for_gpr(training_dvpop_fnames,training_opop_fnames,gpr_t_d)"
   ]
  },
  {
   "cell_type": "markdown",
   "id": "ff2b2dac-5acb-4f27-b0a7-0b4c6e419222",
   "metadata": {},
   "source": [
    "Ok, now let's also re-sweep over the emulated surface to see how much better our approximation to the true objective function surface (remember dont do this in practice!  we are just doing it here to help build understanding):"
   ]
  },
  {
   "cell_type": "code",
   "execution_count": null,
   "id": "1709b80c-62d5-4e6c-ad6f-9b7c565ac78f",
   "metadata": {},
   "outputs": [],
   "source": [
    "gpr_sweep_d = sweep_d+\"_gpr1\"\n",
    "num_workers = 30\n",
    "pyemu.os_utils.start_workers(gpr_t_d,\"pestpp-ies\",\"pest.pst\",\n",
    "                             num_workers=num_workers,\n",
    "                             master_dir=gpr_sweep_d,worker_root='.',\n",
    "                             port=port)"
   ]
  },
  {
   "cell_type": "markdown",
   "id": "5b48ab2c-e132-4e2b-a387-637087a558b4",
   "metadata": {},
   "source": [
    "And now visualize these new surfaces with the current training dataset:"
   ]
  },
  {
   "cell_type": "code",
   "execution_count": null,
   "id": "4070d242-2405-4f4f-979a-d19777477d0b",
   "metadata": {},
   "outputs": [],
   "source": [
    "plot_gpr_sweep_results(gpr_sweep_d,training_dvpop)"
   ]
  },
  {
   "cell_type": "markdown",
   "id": "9d986519-b800-444f-965a-7dff9a589b9a",
   "metadata": {},
   "source": [
    "Comparing this to the original emulated surface, we can see that our emulated objective function surface has improved dramatically!\n",
    "\n",
    "Now let's run pestpp-mou on this improved emulated model and visualize how pestpp-mou navigates this new emulated surface:"
   ]
  },
  {
   "cell_type": "code",
   "execution_count": null,
   "id": "4e3cef15-0ac7-4ffb-9cd4-b7106106b954",
   "metadata": {},
   "outputs": [],
   "source": [
    "gpst.control_data.noptmax = 8\n",
    "gpst.pestpp_options[\"mou_population_size\"] = 20\n",
    "gpst.write(os.path.join(gpr_t_d,\"pest.pst\"))\n",
    "gpr_m_d = gpr_t_d.replace(\"template\",\"master\")\n",
    "num_workers = 20\n",
    "pyemu.os_utils.start_workers(gpr_t_d,\"pestpp-mou\",\"pest.pst\",\n",
    "                             num_workers=num_workers,\n",
    "                             master_dir=gpr_m_d,worker_root='.',\n",
    "                             port=port)\n",
    "plot_gpr_mou_results(gpr_m_d,gpr_sweep_d)"
   ]
  },
  {
   "cell_type": "markdown",
   "id": "49d72679-5b94-4a04-bd1a-43f4bf812f45",
   "metadata": {},
   "source": [
    "Now lets do this whole process a few times:"
   ]
  },
  {
   "cell_type": "code",
   "execution_count": null,
   "id": "e3e78ef6-1bf0-4c05-9688-82c578f0ab77",
   "metadata": {},
   "outputs": [],
   "source": [
    "i = 2\n",
    "gpr_t_d = t_d + \"_gpr{0}\".format(i-1)\n",
    "gpr_m_d = gpr_t_d.replace(\"template\",\"master\")\n",
    "gpr_dvpops = [os.path.join(gpr_m_d,f) for f in os.listdir(gpr_m_d) if len(f.split('.')) == 4 and f.endswith(\"dv_pop.csv\") and \"archive\" not in f]\n",
    "gpr_dvpops_itr = [int(f.split(\".\")[1]) for f in gpr_dvpops]\n",
    "gpr_dvpops = {itr:pd.read_csv(f,index_col=0) for itr,f in zip(gpr_dvpops_itr,gpr_dvpops)}\n",
    "gpr_dvpops[max(gpr_dvpops_itr)].to_csv(os.path.join(t_d,\"retrain_{0}_dvpop.csv\".format(i)))\n",
    "pst.pestpp_options[\"mou_dv_population_file\"] = \"retrain_{0}_dvpop.csv\".format(i)\n",
    "pst.control_data.noptmax = -1\n",
    "pst.write(os.path.join(t_d,\"pest.pst\"))\n",
    "m_d = \"hosaki_model_{0}\".format(i)\n",
    "num_workers = 10\n",
    "pyemu.os_utils.start_workers(t_d,\"pestpp-mou\",\"pest.pst\",\n",
    "                                 num_workers=num_workers,\n",
    "                                 master_dir=m_d,worker_root='.',\n",
    "                                 port=port)\n",
    "\n",
    "training_dvpop_fnamei = os.path.join(m_d,\"pest.0.dv_pop.csv\")\n",
    "training_opop_fnamei = os.path.join(m_d,\"pest.0.obs_pop.csv\")\n",
    "\n",
    "training_dvpopi = pd.read_csv(training_dvpop_fnamei,index_col=0)\n",
    "training_opopi = pd.read_csv(training_opop_fnamei,index_col=0)\n",
    "training_dvpop = pd.concat([training_dvpop,training_dvpopi])\n",
    "training_opop = pd.concat([training_opop,training_opopi])\n",
    "\n",
    "fig,ax = plt.subplots(1,1,figsize=(6,5))\n",
    "get_obj_map(ax,sweep_x,sweep_y,sweep_z)\n",
    "ax.scatter(training_dvpop.loc[:,pst.par_names[0]],training_dvpop.loc[:,pst.par_names[1]],marker='^',c='w',s=20)\n",
    "plt.show()\n",
    "plt.close(fig)\n",
    "\n",
    "training_dvpop_fnames.append(training_dvpop_fnamei)\n",
    "training_opop_fnames.append(training_opop_fnamei)\n",
    "\n",
    "gpr_t_d = t_d + \"_gpr{0}\".format(i)\n",
    "gpr_m_d = gpr_t_d.replace(\"template\",\"master\")\n",
    "gpst = prep_for_gpr(training_dvpop_fnames,training_opop_fnames,gpr_t_d)\n",
    "gpr_sweep_d = sweep_d+\"_gpr{0}\".format(i)\n",
    "num_workers = 30\n",
    "pyemu.os_utils.start_workers(gpr_t_d,\"pestpp-ies\",\"pest.pst\",\n",
    "                             num_workers=num_workers,\n",
    "                             master_dir=gpr_sweep_d,worker_root='.',\n",
    "                             port=port)\n",
    "\n",
    "plot_gpr_sweep_results(gpr_sweep_d,training_dvpop)\n",
    "\n"
   ]
  },
  {
   "cell_type": "code",
   "execution_count": null,
   "id": "c4e058c1-f67d-4280-a9fe-e9a5a4de3e60",
   "metadata": {},
   "outputs": [],
   "source": [
    "gpst.control_data.noptmax = 8\n",
    "gpst.pestpp_options[\"mou_population_size\"] = 20\n",
    "gpst.write(os.path.join(gpr_t_d,\"pest.pst\"))\n",
    "\n",
    "num_workers = 20\n",
    "pyemu.os_utils.start_workers(gpr_t_d,\"pestpp-mou\",\"pest.pst\",\n",
    "                             num_workers=num_workers,\n",
    "                             master_dir=gpr_m_d,worker_root='.',\n",
    "                             port=port)\n",
    "\n",
    "\n",
    "\n",
    "plot_gpr_mou_results(gpr_m_d,gpr_sweep_d)"
   ]
  },
  {
   "cell_type": "code",
   "execution_count": null,
   "id": "f6ec140f-024a-444d-aa7b-766d6733b26a",
   "metadata": {},
   "outputs": [],
   "source": [
    "i = 3\n",
    "gpr_t_d = t_d + \"_gpr{0}\".format(i-1)\n",
    "gpr_m_d = gpr_t_d.replace(\"template\",\"master\")\n",
    "gpr_dvpops = [os.path.join(gpr_m_d,f) for f in os.listdir(gpr_m_d) if len(f.split('.')) == 4 and f.endswith(\"dv_pop.csv\") and \"archive\" not in f]\n",
    "gpr_dvpops_itr = [int(f.split(\".\")[1]) for f in gpr_dvpops]\n",
    "gpr_dvpops = {itr:pd.read_csv(f,index_col=0) for itr,f in zip(gpr_dvpops_itr,gpr_dvpops)}\n",
    "gpr_dvpops[max(gpr_dvpops_itr)].to_csv(os.path.join(t_d,\"retrain_{0}_dvpop.csv\".format(i)))\n",
    "pst.pestpp_options[\"mou_dv_population_file\"] = \"retrain_{0}_dvpop.csv\".format(i)\n",
    "pst.control_data.noptmax = -1\n",
    "pst.write(os.path.join(t_d,\"pest.pst\"))\n",
    "m_d = \"hosaki_model_{0}\".format(i)\n",
    "num_workers = 10\n",
    "pyemu.os_utils.start_workers(t_d,\"pestpp-mou\",\"pest.pst\",\n",
    "                                 num_workers=num_workers,\n",
    "                                 master_dir=m_d,worker_root='.',\n",
    "                                 port=port)\n",
    "\n",
    "training_dvpop_fnamei = os.path.join(m_d,\"pest.0.dv_pop.csv\")\n",
    "training_opop_fnamei = os.path.join(m_d,\"pest.0.obs_pop.csv\")\n",
    "\n",
    "training_dvpopi = pd.read_csv(training_dvpop_fnamei,index_col=0)\n",
    "training_opopi = pd.read_csv(training_opop_fnamei,index_col=0)\n",
    "training_dvpop = pd.concat([training_dvpop,training_dvpopi])\n",
    "training_opop = pd.concat([training_opop,training_opopi])\n",
    "\n",
    "fig,ax = plt.subplots(1,1,figsize=(6,5))\n",
    "get_obj_map(ax,sweep_x,sweep_y,sweep_z)\n",
    "ax.scatter(training_dvpop.loc[:,pst.par_names[0]],training_dvpop.loc[:,pst.par_names[1]],marker='^',c='w',s=20)\n",
    "plt.show()\n",
    "plt.close(fig)\n",
    "\n",
    "training_dvpop_fnames.append(training_dvpop_fnamei)\n",
    "training_opop_fnames.append(training_opop_fnamei)\n",
    "gpr_t_d = t_d + \"_gpr{0}\".format(i)\n",
    "gpr_m_d = gpr_t_d.replace(\"template\",\"master\")\n",
    "\n",
    "gpst = prep_for_gpr(training_dvpop_fnames,training_opop_fnames,gpr_t_d)\n",
    "gpr_sweep_d = sweep_d+\"_gpr{0}\".format(i)\n",
    "num_workers = 30\n",
    "pyemu.os_utils.start_workers(gpr_t_d,\"pestpp-ies\",\"pest.pst\",\n",
    "                             num_workers=num_workers,\n",
    "                             master_dir=gpr_sweep_d,worker_root='.',\n",
    "                             port=port)\n",
    "\n",
    "plot_gpr_sweep_results(gpr_sweep_d,training_dvpop)\n",
    "\n"
   ]
  },
  {
   "cell_type": "code",
   "execution_count": null,
   "id": "6dafb39f-5b30-47ed-9e89-9bf89fb47797",
   "metadata": {},
   "outputs": [],
   "source": [
    "gpst.control_data.noptmax = 8\n",
    "gpst.pestpp_options[\"mou_population_size\"] = 20\n",
    "gpst.write(os.path.join(gpr_t_d,\"pest.pst\"))\n",
    "\n",
    "num_workers = 20\n",
    "pyemu.os_utils.start_workers(gpr_t_d,\"pestpp-mou\",\"pest.pst\",\n",
    "                             num_workers=num_workers,\n",
    "                             master_dir=gpr_m_d,worker_root='.',\n",
    "                             port=port)\n",
    "\n",
    "\n",
    "\n",
    "plot_gpr_mou_results(gpr_m_d,gpr_sweep_d)"
   ]
  },
  {
   "cell_type": "markdown",
   "id": "7ab00c33-17a8-48a6-ae19-7e5c63136bc1",
   "metadata": {},
   "source": [
    "And one last time...and this time with more emulator-based pestpp-mou generations to polish things off since we no longer want to keep a dispersed population (since we arent doing any more in-filling and retraining)"
   ]
  },
  {
   "cell_type": "code",
   "execution_count": null,
   "id": "cef02969-f1b9-431c-a1ef-cca2612d8a3b",
   "metadata": {},
   "outputs": [],
   "source": [
    "i = 4\n",
    "gpr_t_d = t_d + \"_gpr{0}\".format(i-1)\n",
    "gpr_m_d = gpr_t_d.replace(\"template\",\"master\")\n",
    "gpr_dvpops = [os.path.join(gpr_m_d,f) for f in os.listdir(gpr_m_d) if len(f.split('.')) == 4 and f.endswith(\"dv_pop.csv\") and \"archive\" not in f]\n",
    "gpr_dvpops_itr = [int(f.split(\".\")[1]) for f in gpr_dvpops]\n",
    "gpr_dvpops = {itr:pd.read_csv(f,index_col=0) for itr,f in zip(gpr_dvpops_itr,gpr_dvpops)}\n",
    "gpr_dvpops[max(gpr_dvpops_itr)].to_csv(os.path.join(t_d,\"retrain_{0}_dvpop.csv\".format(i)))\n",
    "pst.pestpp_options[\"mou_dv_population_file\"] = \"retrain_{0}_dvpop.csv\".format(i)\n",
    "pst.control_data.noptmax = -1\n",
    "pst.write(os.path.join(t_d,\"pest.pst\"))\n",
    "m_d = \"hosaki_model_{0}\".format(i)\n",
    "num_workers = 10\n",
    "pyemu.os_utils.start_workers(t_d,\"pestpp-mou\",\"pest.pst\",\n",
    "                                 num_workers=num_workers,\n",
    "                                 master_dir=m_d,worker_root='.',\n",
    "                                 port=port)\n",
    "\n",
    "training_dvpop_fnamei = os.path.join(m_d,\"pest.0.dv_pop.csv\")\n",
    "training_opop_fnamei = os.path.join(m_d,\"pest.0.obs_pop.csv\")\n",
    "\n",
    "training_dvpopi = pd.read_csv(training_dvpop_fnamei,index_col=0)\n",
    "training_opopi = pd.read_csv(training_opop_fnamei,index_col=0)\n",
    "training_dvpop = pd.concat([training_dvpop,training_dvpopi])\n",
    "training_opop = pd.concat([training_opop,training_opopi])\n",
    "\n",
    "fig,ax = plt.subplots(1,1,figsize=(6,5))\n",
    "get_obj_map(ax,sweep_x,sweep_y,sweep_z)\n",
    "ax.scatter(training_dvpop.loc[:,pst.par_names[0]],training_dvpop.loc[:,pst.par_names[1]],marker='^',c='w',s=20)\n",
    "plt.show()\n",
    "plt.close(fig)\n",
    "\n",
    "training_dvpop_fnames.append(training_dvpop_fnamei)\n",
    "training_opop_fnames.append(training_opop_fnamei)\n",
    "gpr_t_d = t_d + \"_gpr{0}\".format(i)\n",
    "gpr_m_d = gpr_t_d.replace(\"template\",\"master\")\n",
    "gpst = prep_for_gpr(training_dvpop_fnames,training_opop_fnames,gpr_t_d)\n",
    "gpr_sweep_d = sweep_d+\"_gpr{0}\".format(i)\n",
    "num_workers = 30\n",
    "pyemu.os_utils.start_workers(gpr_t_d,\"pestpp-ies\",\"pest.pst\",\n",
    "                             num_workers=num_workers,\n",
    "                             master_dir=gpr_sweep_d,worker_root='.',\n",
    "                             port=port)\n",
    "\n",
    "plot_gpr_sweep_results(gpr_sweep_d,training_dvpop)\n",
    "\n"
   ]
  },
  {
   "cell_type": "code",
   "execution_count": null,
   "id": "a2c52501-30e5-4140-879c-d7a6bbfe565e",
   "metadata": {},
   "outputs": [],
   "source": [
    "gpst.control_data.noptmax = 15\n",
    "gpst.pestpp_options[\"mou_population_size\"] = 20\n",
    "gpst.write(os.path.join(gpr_t_d,\"pest.pst\"))\n",
    "\n",
    "num_workers = 20\n",
    "pyemu.os_utils.start_workers(gpr_t_d,\"pestpp-mou\",\"pest.pst\",\n",
    "                             num_workers=num_workers,\n",
    "                             master_dir=gpr_m_d,worker_root='.',\n",
    "                             port=port)\n",
    "\n",
    "plot_gpr_mou_results(gpr_m_d,gpr_sweep_d)"
   ]
  },
  {
   "cell_type": "markdown",
   "id": "5aaeba17-14dc-4da9-8528-e64445ac7e41",
   "metadata": {},
   "source": [
    "There you have it - after evaluating only a few populations with the complex process-based model (here that was only the hosaki function), we can effectively optimize a function with the otherwise every expensive global solvers in pestpp-mou.  In general, this approach can reduce the computational demand of mou by 10X to 100X, which is pretty amazing...."
   ]
  },
  {
   "cell_type": "code",
   "execution_count": null,
   "id": "31eeeee5-f54e-4dfd-8ba7-717108066370",
   "metadata": {},
   "outputs": [],
   "source": []
  },
  {
   "cell_type": "code",
   "execution_count": null,
   "id": "0d58eb64-1e67-4d01-b7c9-2d024b0806a0",
   "metadata": {},
   "outputs": [],
   "source": []
  }
 ],
 "metadata": {
  "kernelspec": {
   "display_name": "Python 3 (ipykernel)",
   "language": "python",
   "name": "python3"
  },
  "language_info": {
   "codemirror_mode": {
    "name": "ipython",
    "version": 3
   },
   "file_extension": ".py",
   "mimetype": "text/x-python",
   "name": "python",
   "nbconvert_exporter": "python",
   "pygments_lexer": "ipython3",
   "version": "3.10.12"
  }
 },
 "nbformat": 4,
 "nbformat_minor": 5
}

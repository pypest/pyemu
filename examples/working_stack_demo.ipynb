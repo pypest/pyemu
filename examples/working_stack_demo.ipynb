{
 "cells": [
  {
   "cell_type": "markdown",
   "metadata": {},
   "source": [
    "# Current working stack for setting up PEST interface"
   ]
  },
  {
   "cell_type": "code",
   "execution_count": null,
   "metadata": {},
   "outputs": [],
   "source": [
    "%matplotlib inline\n",
    "import os\n",
    "import shutil\n",
    "import platform\n",
    "import numpy as np\n",
    "import pandas as pd\n",
    "import matplotlib.pyplot as plt\n",
    "import flopy\n",
    "import pyemu\n",
    "from pathlib import Path"
   ]
  },
  {
   "cell_type": "markdown",
   "metadata": {},
   "source": [
    "##### Sandbox (this is mostly for test running safety)"
   ]
  },
  {
   "cell_type": "code",
   "execution_count": null,
   "metadata": {},
   "outputs": [],
   "source": [
    "org_model_ws = \"freyberg_sfr_update\"\n",
    "egpath = Path(\".\").absolute()\n",
    "while egpath.name != 'examples':\n",
    "    os.chdir('..')\n",
    "    egpath = Path(\".\").absolute()\n",
    "\n",
    "model_ws = Path(org_model_ws).absolute()\n",
    "tmp_path = Path(\"working_stack_demo\").absolute()\n",
    "\n",
    "EXE_DIR = Path(\"..\",\"bin\").absolute()\n",
    "if \"window\" in platform.platform().lower():\n",
    "    EXE_DIR = Path(EXE_DIR,\"win\")\n",
    "elif \"darwin\" in platform.platform().lower() or \"macos\" in platform.platform().lower():\n",
    "    EXE_DIR = Path(EXE_DIR,\"mac\")\n",
    "else:\n",
    "    EXE_DIR = Path(EXE_DIR,\"linux\")\n",
    "    \n",
    "basename = Path(model_ws).name\n",
    "new_d = Path(tmp_path, basename)\n",
    "if new_d.exists():\n",
    "    shutil.rmtree(new_d)\n",
    "Path(tmp_path).mkdir(exist_ok=True)\n",
    "# creation functionality\n",
    "shutil.copytree(model_ws, new_d)\n",
    "\n",
    "os.chdir(tmp_path)\n",
    "print(Path.cwd())"
   ]
  },
  {
   "cell_type": "markdown",
   "metadata": {},
   "source": [
    "### load the existing model just to see what is going on"
   ]
  },
  {
   "cell_type": "code",
   "execution_count": null,
   "metadata": {},
   "outputs": [],
   "source": [
    "nam_file = \"freyberg.nam\"\n",
    "\n",
    "m = flopy.modflow.Modflow.load(nam_file,model_ws=org_model_ws,check=False)"
   ]
  },
  {
   "cell_type": "code",
   "execution_count": null,
   "metadata": {},
   "outputs": [],
   "source": [
    "m.dis.nper #stress periods"
   ]
  },
  {
   "cell_type": "code",
   "execution_count": null,
   "metadata": {},
   "outputs": [],
   "source": [
    "m.dis.botm[2].plot()\n",
    "m.export(\"shape.shp\")"
   ]
  },
  {
   "cell_type": "markdown",
   "metadata": {},
   "source": [
    "### change the working dir and write a new copy of model files to keep the others safe"
   ]
  },
  {
   "cell_type": "code",
   "execution_count": null,
   "metadata": {},
   "outputs": [],
   "source": [
    "m.change_model_ws(\"temp\",reset_external=True)\n",
    "m.external_path = '.'\n",
    "m.exe_name=\"mfnwt\"\n",
    "m.write_input()\n",
    "[shutil.copy2(os.path.join(EXE_DIR,f),os.path.join(m.model_ws,f)) for f in os.listdir(EXE_DIR)]\n",
    "\n",
    "pyemu.os_utils.run(\"mfnwt freyberg.nam\", cwd=m.model_ws)  \n",
    "# flopy run_model() is a bit flaky when model and exe are in diff dir to where python is running"
   ]
  },
  {
   "cell_type": "markdown",
   "metadata": {},
   "source": [
    "### build up args for which properties and outputs we want to include in the interface"
   ]
  },
  {
   "cell_type": "code",
   "execution_count": null,
   "metadata": {},
   "outputs": [],
   "source": [
    "props,hds = [],[]\n",
    "for k in range(m.nlay):\n",
    "    props.append([\"upw.hk\",k])\n",
    "    props.append([\"upw.vka\",k])\n",
    "    for kper in range(m.nper):\n",
    "        hds.append([kper,k])\n",
    "    \n",
    "props.append([\"rch.rech\",0])\n",
    "props.append([\"rch.rech\",1])\n",
    "props"
   ]
  },
  {
   "cell_type": "markdown",
   "metadata": {},
   "source": [
    "### Here's where the cool stuff happens: this call will build a pest interace entirely using mulitplier parameters - a mixture of uniform (constant) and grid-scale parameters for all props listed above, plus multipliers for all wells in all stress periods and SFR components.  \n",
    "\n",
    "### For observations, we will get the MODFLOW list file budget values, sfr outputs and headsave file array values (all of them!).  All observations will be given simulated outputs - this is very useful for error checking...\n",
    "\n",
    "### The interface package will be written to \"template\" and includes a python forward run script - \"template\" is the whole package...."
   ]
  },
  {
   "cell_type": "code",
   "execution_count": null,
   "metadata": {},
   "outputs": [],
   "source": [
    "ph = pyemu.helpers.PstFromFlopyModel(nam_file,org_model_ws=\"temp\",\n",
    "                                     new_model_ws=\"template\",grid_props=props,pp_space=3,\n",
    "                                    const_props=props,spatial_list_props=[[\"wel.flux\",2]],\n",
    "                                    sfr_pars=True,hds_kperk=hds,\n",
    "                                    remove_existing=True, sfr_obs=True,\n",
    "                                    model_exe_name=\"mfnwt\",build_prior=False)\n",
    "[shutil.copy2(os.path.join(EXE_DIR,f),os.path.join(ph.new_model_ws,f)) for f in os.listdir(EXE_DIR)]"
   ]
  },
  {
   "cell_type": "markdown",
   "metadata": {},
   "source": [
    "### let's inspect what just happened..."
   ]
  },
  {
   "cell_type": "code",
   "execution_count": null,
   "metadata": {},
   "outputs": [],
   "source": [
    "pst = ph.pst"
   ]
  },
  {
   "cell_type": "code",
   "execution_count": null,
   "metadata": {},
   "outputs": [],
   "source": [
    "pst.npar,pst.nobs"
   ]
  },
  {
   "cell_type": "markdown",
   "metadata": {},
   "source": [
    "# WAT!"
   ]
  },
  {
   "cell_type": "code",
   "execution_count": null,
   "metadata": {},
   "outputs": [],
   "source": [
    "pst.parameter_data.head()"
   ]
  },
  {
   "cell_type": "code",
   "execution_count": null,
   "metadata": {},
   "outputs": [],
   "source": [
    "pst.observation_data.tail() # the last few observations"
   ]
  },
  {
   "cell_type": "markdown",
   "metadata": {},
   "source": [
    "### write parameter and observtion summary LaTeX tables"
   ]
  },
  {
   "cell_type": "code",
   "execution_count": null,
   "metadata": {},
   "outputs": [],
   "source": [
    "pst.write_par_summary_table()\n",
    "pst.write_obs_summary_table()"
   ]
  },
  {
   "cell_type": "markdown",
   "metadata": {},
   "source": [
    "### plot the prior distribution of the parameter implied by the parameter bounds (assuming bounds represent 95% credible limits)"
   ]
  },
  {
   "cell_type": "code",
   "execution_count": null,
   "metadata": {},
   "outputs": [],
   "source": [
    "figs = pst.plot(kind=\"prior\",unique_only=True,echo=False)"
   ]
  },
  {
   "cell_type": "markdown",
   "metadata": {},
   "source": [
    "### but we can do better! We can use geostatistics to build a prior parameter covariance matrix for spatially distributed parameters..."
   ]
  },
  {
   "cell_type": "code",
   "execution_count": null,
   "metadata": {},
   "outputs": [],
   "source": [
    "cov = ph.build_prior(fmt=\"none\")"
   ]
  },
  {
   "cell_type": "code",
   "execution_count": null,
   "metadata": {},
   "outputs": [],
   "source": [
    "plt.imshow(np.ma.masked_where(cov.x==0,cov.x))\n",
    "plt.show()"
   ]
  },
  {
   "cell_type": "markdown",
   "metadata": {},
   "source": [
    "### Let's run pestpp once to get residuals...which should be *nearly* zero since all observations are set to current simulated outputs and all parameters are multipliers - this is a good check!"
   ]
  },
  {
   "cell_type": "code",
   "execution_count": null,
   "metadata": {},
   "outputs": [],
   "source": [
    "pyemu.helpers.run(\"pestpp-glm freyberg.pst\",cwd=\"template\")"
   ]
  },
  {
   "cell_type": "markdown",
   "metadata": {},
   "source": [
    "Reload the pst instance to update the residuals"
   ]
  },
  {
   "cell_type": "code",
   "execution_count": null,
   "metadata": {},
   "outputs": [],
   "source": [
    "pst = pyemu.Pst(os.path.join(\"template\",\"freyberg.pst\"))"
   ]
  },
  {
   "cell_type": "code",
   "execution_count": null,
   "metadata": {},
   "outputs": [],
   "source": [
    "pst.phi_components"
   ]
  },
  {
   "cell_type": "markdown",
   "metadata": {},
   "source": [
    "### all residuals are *nearly* zero - this is good!"
   ]
  },
  {
   "cell_type": "code",
   "execution_count": null,
   "metadata": {},
   "outputs": [],
   "source": [
    "pst.plot(kind='phi_pie')"
   ]
  },
  {
   "cell_type": "markdown",
   "metadata": {},
   "source": [
    "### Let's do some Monte Carlo!\n",
    "\n",
    "Generate a parameter ensemble and run it in parallel"
   ]
  },
  {
   "cell_type": "code",
   "execution_count": null,
   "metadata": {},
   "outputs": [],
   "source": [
    "pe = pyemu.ParameterEnsemble.from_gaussian_draw(pst=ph.pst,num_reals=100,\n",
    "                                               cov=cov)"
   ]
  },
  {
   "cell_type": "code",
   "execution_count": null,
   "metadata": {},
   "outputs": [],
   "source": [
    "# save to a csv file\n",
    "pe.to_csv(os.path.join(\"template\",\"sweep_in.csv\"))"
   ]
  },
  {
   "cell_type": "code",
   "execution_count": null,
   "metadata": {},
   "outputs": [],
   "source": [
    "# run with sweep using 20 workers\n",
    "pyemu.helpers.start_workers(\"template\",\"pestpp-swp\",\"freyberg.pst\",num_workers=20,\n",
    "                          master_dir=\"sweep_master\")"
   ]
  },
  {
   "cell_type": "markdown",
   "metadata": {},
   "source": [
    "### more eye candy using the plot helpers...\n",
    "\n",
    "Every 50th parameter"
   ]
  },
  {
   "cell_type": "code",
   "execution_count": null,
   "metadata": {},
   "outputs": [],
   "source": [
    "pyemu.plot_utils.ensemble_helper(pe.iloc[:,::50],facecolor='b',\n",
    "                                 deter_vals=pst.parameter_data.parval1.to_dict(),\n",
    "                                 filename=None) # you can also pass pdf filename"
   ]
  },
  {
   "cell_type": "markdown",
   "metadata": {},
   "source": [
    "### load the output csv file...."
   ]
  },
  {
   "cell_type": "code",
   "execution_count": null,
   "metadata": {},
   "outputs": [],
   "source": [
    "df = pd.read_csv(os.path.join(\"sweep_master\",\"sweep_out.csv\"))\n",
    "df.columns = df.columns.map(str.lower)\n",
    "df = df.loc[:,[o for o in pst.obs_names if \"hds_00\" in o ]]"
   ]
  },
  {
   "cell_type": "markdown",
   "metadata": {},
   "source": [
    "### and plot...\n",
    "\n",
    "every 20th observation"
   ]
  },
  {
   "cell_type": "code",
   "execution_count": null,
   "metadata": {},
   "outputs": [],
   "source": [
    "pyemu.plot_utils.ensemble_helper(df.iloc[:,:20],filename=None)"
   ]
  }
 ],
 "metadata": {
  "kernelspec": {
   "display_name": "Python 3 (ipykernel)",
   "language": "python",
   "name": "python3"
  },
  "language_info": {
   "codemirror_mode": {
    "name": "ipython",
    "version": 3
   },
   "file_extension": ".py",
   "mimetype": "text/x-python",
   "name": "python",
   "nbconvert_exporter": "python",
   "pygments_lexer": "ipython3",
   "version": "3.9.13"
  }
 },
 "nbformat": 4,
 "nbformat_minor": 4
}
